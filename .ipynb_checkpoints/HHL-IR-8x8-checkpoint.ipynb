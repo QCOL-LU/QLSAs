{
 "cells": [
  {
   "cell_type": "code",
   "execution_count": 1,
   "id": "d4d505c6-d0e8-4d24-abed-9ed181f68b04",
   "metadata": {},
   "outputs": [
    {
     "name": "stdout",
     "output_type": "stream",
     "text": [
      "Qiskit version (should be 1.3.0): 1.4.2\n",
      "Qiskit Aer version (should be 0.15.1): 0.16.1\n",
      "Pytket version (should be 1.36.0): 1.40.0\n"
     ]
    }
   ],
   "source": [
    "# Custom imports\n",
    "from Generate_Problem import generate_problem\n",
    "from HHL_Circuit import hhl_circuit\n",
    "from Iterative_Refinement import norm_estimation, sign_estimation, IR\n",
    "from Quantum_Linear_Solver import quantum_linear_solver\n",
    "\n",
    "# Third-party libraries\n",
    "import numpy as np\n",
    "import pandas as pd\n",
    "\n",
    "# Qiskit imports\n",
    "import qiskit\n",
    "import qiskit_aer\n",
    "\n",
    "# PyTKet imports\n",
    "import pytket\n",
    "import qnexus as qnx\n",
    "from pytket.extensions.nexus import NexusBackend\n",
    "from pytket.extensions.nexus import QuantinuumConfig\n",
    "\n",
    "\n",
    "\n",
    "# Filter warnings\n",
    "# warnings.filterwarnings(\"ignore\")\n",
    "\n",
    "# Matplotlib inline to visualize plots\n",
    "%matplotlib inline\n",
    "\n",
    "# Use py310-qiskit1.0 environment\n",
    "\n",
    "# Print library versions\n",
    "print(\"Qiskit version (should be 1.3.0):\", qiskit.__version__)\n",
    "print(\"Qiskit Aer version (should be 0.15.1):\", qiskit_aer.__version__)\n",
    "print(\"Pytket version (should be 1.36.0):\", pytket.__version__)"
   ]
  },
  {
   "cell_type": "code",
   "execution_count": 2,
   "id": "1477627f-ff5a-4e15-8be0-04db7855b406",
   "metadata": {},
   "outputs": [
    {
     "data": {
      "text/plain": [
       "{'A': array([[ 0.31, -0.  , -0.  ,  0.  ,  0.07, -0.02,  0.  , -0.  ],\n",
       "        [-0.  ,  0.38, -0.  , -0.  , -0.  ,  0.03,  0.  , -0.  ],\n",
       "        [-0.  , -0.  ,  0.21,  0.05, -0.  ,  0.  , -0.  , -0.  ],\n",
       "        [ 0.  , -0.  ,  0.05,  0.42, -0.  ,  0.  ,  0.  ,  0.  ],\n",
       "        [ 0.07, -0.  , -0.  , -0.  ,  0.39,  0.  ,  0.  , -0.  ],\n",
       "        [-0.02,  0.03,  0.  ,  0.  ,  0.  ,  0.42, -0.  ,  0.  ],\n",
       "        [ 0.  ,  0.  , -0.  ,  0.  ,  0.  , -0.  ,  0.3 , -0.  ],\n",
       "        [-0.  , -0.  , -0.  ,  0.  , -0.  ,  0.  , -0.  ,  0.32]]),\n",
       " 'b': array([ 0.19, -0.07, -0.06, -0.12,  0.1 , -0.26,  0.2 , -0.09]),\n",
       " 'csol': array([ 0.53921271, -0.13814447, -0.22403734, -0.25904317,  0.15962849,\n",
       "        -0.58350336,  0.66666667, -0.28125   ]),\n",
       " 'condition_number': 2.2325705187412592,\n",
       " 'sparsity': 0.75,\n",
       " 'eigs': array([0.19870297, 0.26730084, 0.3       , 0.32      , 0.36430171,\n",
       "        0.42477906, 0.43129703, 0.44361839])}"
      ]
     },
     "execution_count": 2,
     "metadata": {},
     "output_type": "execute_result"
    }
   ],
   "source": [
    "problem = generate_problem(8, cond_number=5, sparsity=0.5, seed=1)\n",
    "problem"
   ]
  },
  {
   "cell_type": "code",
   "execution_count": 4,
   "id": "c63c728e-c65a-4f0e-b19f-cab1bc1e73f9",
   "metadata": {
    "editable": true,
    "slideshow": {
     "slide_type": ""
    },
    "tags": []
   },
   "outputs": [
    {
     "name": "stdout",
     "output_type": "stream",
     "text": [
      "\n",
      "Started using project with name: HHL-IR\n"
     ]
    }
   ],
   "source": [
    "# Create config object to specify details of desired backend\n",
    "configuration = QuantinuumConfig(device_name='H2-2', attempt_batching=True)\n",
    "\n",
    "# Set up a Nexus Project to compartmentalize running jobs and data\n",
    "# Create a NexusBackend using our config and our retrieved project\n",
    "backend = NexusBackend(configuration, project_name='HHL-IR')"
   ]
  },
  {
   "cell_type": "code",
   "execution_count": null,
   "id": "8015efba-a8b5-4568-96d4-aca056eda96c",
   "metadata": {},
   "outputs": [],
   "source": []
  },
  {
   "cell_type": "code",
   "execution_count": null,
   "id": "304ff619-6aca-4dc7-88fd-396e761ef3c5",
   "metadata": {},
   "outputs": [],
   "source": [
    "from HHL_Circuit import hhl_circuit\n",
    "import numpy as np\n",
    "import math\n",
    "from numpy import linalg as LA\n",
    "from numpy.linalg import solve\n",
    "from qiskit import transpile\n",
    "from qiskit_aer import AerSimulator\n",
    "from pytket.extensions.nexus import NexusBackend\n",
    "from pytket.extensions.qiskit import qiskit_to_tk\n",
    "\n",
    "\n",
    "def quantum_linear_solver(A, b, backend, t0=2*np.pi, shots=1024):  # run hhl circuit on a quantum backend and post-process the result\n",
    "    \"\"\"\n",
    "    Run the hhl circuit on a quantinuum backend and return the result and the compiled circuit.\n",
    "    Returns:\n",
    "    The post-processed result of the quantum linear solver (x), and a whole bunch of stats about the circuit.\n",
    "    \"\"\"\n",
    "    csol = solve(A, b)\n",
    "    solution = {}\n",
    "\n",
    "    hhl_circ = hhl_circuit(A, b, t0)\n",
    "    # transpile in qiskit then convert to a tket circuit if backend is from quantinuum\n",
    "    qiskit_circuit = transpile(hhl_circ, AerSimulator())\n",
    "\n",
    "    # if isinstance(backend, AerSimulator):\n",
    "    #     print(f\"Running on {backend.name}\")\n",
    "    #     qiskit_circuit = transpile(hhl_circ, backend, optimization_level=3)\n",
    "    #     solution['number_of_qubits'] = qiskit_circuit.num_qubits\n",
    "    #     solution['circuit_depth'] = qiskit_circuit.depth()\n",
    "    #     solution['total_gates'] = qiskit_circuit.size()\n",
    "    #     solution['cost'] = 0\n",
    "    #     job = backend.run(qiskit_circuit, shots=shots)\n",
    "    #     result = job.result()\n",
    "\n",
    "    if isinstance(backend, NexusBackend):\n",
    "        print(f\"Running on {backend.backend_config.device_name}\")\n",
    "        qtuum_circuit = qiskit_to_tk(qiskit_circuit)\n",
    "        # re-transpile to quantinuum backend\n",
    "        new_qtuum_circuit = backend.get_compiled_circuit(qtuum_circuit, optimisation_level=2)\n",
    "\n",
    "        try:\n",
    "            syntax_checker = backend.backend_config.device_name[:4] + \"SC\"\n",
    "            solution['cost'] = backend.cost(new_qtuum_circuit, shots, syntax_checker)\n",
    "        except Exception:\n",
    "            solution['cost'] = 0\n",
    "\n",
    "        # Get circuit stats\n",
    "        solution['number_of_qubits'] = new_qtuum_circuit.n_qubits\n",
    "        solution['circuit_depth'] = new_qtuum_circuit.depth()\n",
    "        solution['total_gates'] = new_qtuum_circuit.n_gates\n",
    "        solution['two_qubit_gates'] = new_qtuum_circuit.n_2qb_gates()\n",
    "\n",
    "        # Run circuit\n",
    "        result_handle = ('2196ca2f-e935-4ade-b877-a028e6a6edd7', 3147224)\n",
    "        solution['result_handle'] = result_handle\n",
    "\n",
    "        result = backend.get_result(result_handle, timeout=None)  # only works if job completed\n",
    "        status = backend.circuit_status(result_handle)\n",
    "\n",
    "        try:\n",
    "            solution['runtime'] = status.completed_time - status.running_time\n",
    "        except Exception:\n",
    "            # Skip the line if an error occurs\n",
    "            solution['runtime'] = 'Not Found'\n",
    "\n",
    "    else:\n",
    "        print('backend should be a NexusBackend')\n",
    "\n",
    "    def process_result(result):  # process the result of the quantum linear solver and return the solution vector\n",
    "        \"\"\"\n",
    "        Process the result of the quantum linear solver and return the solution vector.\n",
    "        \"\"\"\n",
    "        # Get the counts\n",
    "        counts = result.get_counts()\n",
    "\n",
    "        def solution_vector(counts, b):\n",
    "            b_num = int(math.log2(len(b)))\n",
    "            num = 0  # for normalization\n",
    "            app_sol = np.zeros(2 ** b_num)\n",
    "\n",
    "            if isinstance(backend, AerSimulator):\n",
    "                for key, value in counts.items():\n",
    "                    if key[-1] == '1':\n",
    "                        num += value\n",
    "                        cord = int(key[:b_num], base=2)  # position in b vector from binary string\n",
    "                        app_sol[cord] = value\n",
    "                if num == 0:\n",
    "                    return app_sol\n",
    "                app_sol = np.sqrt(app_sol/num)\n",
    "                # app_sol = app_sol/num\n",
    "                return app_sol\n",
    "\n",
    "            else:\n",
    "                for key, value in counts.items():\n",
    "                    key_str = \"\".join(str(bit) for bit in key)\n",
    "                    if key_str[-1] == '1':\n",
    "                        num += value\n",
    "                        cord = int(key_str[:b_num], base=2)\n",
    "                        app_sol[cord] = value\n",
    "                if num == 0:\n",
    "                    return app_sol\n",
    "                app_sol = np.sqrt(app_sol/num)\n",
    "                # app_sol = app_sol/num\n",
    "                return app_sol\n",
    "\n",
    "        # Extract approximate solution\n",
    "        qsol = solution_vector(counts, b)\n",
    "\n",
    "        # Avoiding sign estimation for now\n",
    "        for idx, (i, j) in enumerate(zip(csol, qsol)):\n",
    "            if i < 0:\n",
    "                qsol[idx] = -j\n",
    "        return qsol\n",
    "\n",
    "    x = process_result(result)\n",
    "    solution['x'] = x\n",
    "\n",
    "    two_norm_error = LA.norm(csol - x)\n",
    "    solution['two_norm_error'] = two_norm_error\n",
    "\n",
    "    residual_error = LA.norm(b - A @ x)\n",
    "    solution['residual_error'] = residual_error\n",
    "\n",
    "    return solution"
   ]
  },
  {
   "cell_type": "code",
   "execution_count": null,
   "id": "ead3bb27-bb7d-488a-82cd-d7f99e46f128",
   "metadata": {
    "scrolled": true
   },
   "outputs": [
    {
     "name": "stdout",
     "output_type": "stream",
     "text": [
      "Running on H1-1E\n"
     ]
    }
   ],
   "source": [
    "A = problem['A']\n",
    "b = problem['b']\n",
    "\n",
    "# Single Run\n",
    "solution = quantum_linear_solver(A, b, backend=backend, t0=2*np.pi, shots=1024)\n",
    "solution"
   ]
  },
  {
   "cell_type": "code",
   "execution_count": 13,
   "id": "60fd2056-55a8-40e3-b0dd-24e863b8e9fb",
   "metadata": {},
   "outputs": [
    {
     "data": {
      "text/plain": [
       "CircuitStatus(status=<StatusEnum.COMPLETED: 'Circuit has completed. Results are ready.'>, message='Circuit has completed.', error_detail=None, completed_time=datetime.datetime(2025, 3, 28, 9, 2, 37, 350370, tzinfo=datetime.timezone.utc), queued_time=datetime.datetime(2025, 3, 25, 23, 29, 7, 578087, tzinfo=datetime.timezone.utc), submitted_time=datetime.datetime(2025, 3, 25, 20, 28, 8, 950615, tzinfo=datetime.timezone.utc), running_time=datetime.datetime(2025, 3, 28, 9, 2, 5, 175728, tzinfo=datetime.timezone.utc), cancelled_time=None, error_time=None, queue_position=None)"
      ]
     },
     "execution_count": 13,
     "metadata": {},
     "output_type": "execute_result"
    }
   ],
   "source": [
    "status = backend.circuit_status(('2196ca2f-e935-4ade-b877-a028e6a6edd7', 3147224))\n",
    "status"
   ]
  },
  {
   "cell_type": "code",
   "execution_count": null,
   "id": "9cdb8a85-9ba5-454e-8ee0-a3bfbc849411",
   "metadata": {},
   "outputs": [],
   "source": [
    "# Iterative Refinement\n",
    "refined_solution = IR(A, b, precision=1e-5, max_iter=3, backend=backend, plot=True)\n",
    "refined_solution"
   ]
  },
  {
   "cell_type": "code",
   "execution_count": null,
   "id": "5ef5a6b3-c108-49b5-9f78-1a02e55f259d",
   "metadata": {},
   "outputs": [],
   "source": [
    "df = pd.DataFrame()\n",
    "# Make a dataframe out of the results\n",
    "datarow = {\n",
    "    \"Backend\": backend.backend_config.device_name,\n",
    "    \"Problem Size\": f\"{len(b)} x {len(b)}\",\n",
    "    \"A\": problem[\"A\"],\n",
    "    \"b\": problem[\"b\"],\n",
    "    \"Condition Number\": problem[\"condition_number\"],\n",
    "    \"Sparsity\": problem[\"sparsity\"],\n",
    "    \"Number of Qubits\": solution[\"number_of_qubits\"],\n",
    "    \"Circuit Depth\": solution[\"circuit_depth\"],\n",
    "    \"Total Gates\": solution[\"total_gates\"],\n",
    "    \"Two-Qubit Gates\": solution[\"two_qubit_gates\"],  # Uncomment if needed\n",
    "    # \"Runtime\": solution[\"runtime\"],  # Uncomment if needed\n",
    "    \"||x_c - x_q|| without IR\": solution[\"two_norm_error\"],\n",
    "    \"||x_c - x_q|| with IR\": refined_solution[\"errors\"][-1],\n",
    "    \"||Ax - b|| without IR\": solution[\"residual_error\"],\n",
    "    \"||Ax - b|| with IR\": refined_solution[\"residuals\"][-1],\n",
    "    \"Total Iterations of IR\": refined_solution[\"total_iterations\"],\n",
    "    # \"Total Cost\": refined_solution[\"total_cost\"],\n",
    "    \"Error list\": refined_solution[\"errors\"],\n",
    "    \"Residual list\": refined_solution[\"residuals\"],\n",
    "}\n",
    "df = pd.concat([df, pd.DataFrame([datarow])], ignore_index=True)\n",
    "\n",
    "# Display the DataFrame without showing \"Error list\" and \"Residual list\"\n",
    "df_display = df.drop(columns=[\"Error list\", \"Residual list\", \"A\", \"b\"])\n",
    "\n",
    "df_display.style.hide(axis=\"index\").format(precision=6).set_caption(f\"{backend.backend_config.device_name} Results\")"
   ]
  }
 ],
 "metadata": {
  "kernelspec": {
   "display_name": "Python [conda env:base] *",
   "language": "python",
   "name": "conda-base-py"
  },
  "language_info": {
   "codemirror_mode": {
    "name": "ipython",
    "version": 3
   },
   "file_extension": ".py",
   "mimetype": "text/x-python",
   "name": "python",
   "nbconvert_exporter": "python",
   "pygments_lexer": "ipython3",
   "version": "3.11.10"
  }
 },
 "nbformat": 4,
 "nbformat_minor": 5
}

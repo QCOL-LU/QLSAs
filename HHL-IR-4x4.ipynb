{
 "cells": [
  {
   "cell_type": "code",
   "execution_count": 1,
   "id": "d4d505c6-d0e8-4d24-abed-9ed181f68b04",
   "metadata": {},
   "outputs": [
    {
     "name": "stdout",
     "output_type": "stream",
     "text": [
      "Qiskit version (should be 1.3.0): 1.2.2\n",
      "Qiskit Aer version (should be 0.15.1): 0.15.1\n",
      "Pytket version (should be 1.36.0): 1.39.0\n"
     ]
    }
   ],
   "source": [
    "# Custom imports\n",
    "from Generate_Problem import generate_problem\n",
    "from HHL_Circuit import hhl_circuit\n",
    "from Iterative_Refinement import norm_estimation, sign_estimation, IR\n",
    "from Quantum_Linear_Solver import quantum_linear_solver\n",
    "\n",
    "# Third-party libraries\n",
    "import numpy as np\n",
    "import pandas as pd\n",
    "\n",
    "# Qiskit imports\n",
    "import qiskit\n",
    "import qiskit_aer\n",
    "\n",
    "# PyTKet imports\n",
    "import pytket\n",
    "from pytket.extensions.nexus import NexusBackend\n",
    "from pytket.extensions.nexus import QuantinuumConfig\n",
    "\n",
    "\n",
    "# Filter warnings\n",
    "# warnings.filterwarnings(\"ignore\")\n",
    "\n",
    "# Matplotlib inline to visualize plots\n",
    "%matplotlib inline\n",
    "\n",
    "# Use py310-qiskit1.0 environment\n",
    "\n",
    "# Print library versions\n",
    "print(\"Qiskit version (should be 1.3.0):\", qiskit.__version__)\n",
    "print(\"Qiskit Aer version (should be 0.15.1):\", qiskit_aer.__version__)\n",
    "print(\"Pytket version (should be 1.36.0):\", pytket.__version__)"
   ]
  },
  {
   "cell_type": "code",
   "execution_count": 2,
   "id": "1477627f-ff5a-4e15-8be0-04db7855b406",
   "metadata": {},
   "outputs": [
    {
     "data": {
      "text/plain": [
       "{'A': array([[ 0.24, -0.  ,  0.  , -0.03],\n",
       "        [-0.  ,  0.61,  0.  ,  0.  ],\n",
       "        [ 0.  ,  0.  ,  0.51, -0.  ],\n",
       "        [-0.03,  0.  , -0.  ,  0.56]]),\n",
       " 'b': array([ 0.26, -0.1 , -0.08, -0.17]),\n",
       " 'csol': array([ 1.05243446, -0.16393443, -0.15686275, -0.24719101]),\n",
       " 'condition_number': 2.571541615252496,\n",
       " 'sparsity': 0.625,\n",
       " 'eigs': array([0.23721179, 0.51      , 0.56278821, 0.61      ])}"
      ]
     },
     "execution_count": 2,
     "metadata": {},
     "output_type": "execute_result"
    }
   ],
   "source": [
    "problem = generate_problem(4, cond_number=5, sparsity=0.5, seed=1)\n",
    "problem"
   ]
  },
  {
   "cell_type": "code",
   "execution_count": 3,
   "id": "c63c728e-c65a-4f0e-b19f-cab1bc1e73f9",
   "metadata": {},
   "outputs": [
    {
     "name": "stdout",
     "output_type": "stream",
     "text": [
      "\n",
      "Started using project with name: HHL-IR\n"
     ]
    }
   ],
   "source": [
    "# Create config object to specify details of desired backend\n",
    "configuration = QuantinuumConfig(device_name='H2-2')\n",
    "\n",
    "# Set up a Nexus Project to compartmentalize running jobs and data\n",
    "# Create a NexusBackend using our config and our retrieved project\n",
    "backend = NexusBackend(configuration, project_name='HHL-IR')"
   ]
  },
  {
   "cell_type": "code",
   "execution_count": 4,
   "id": "ead3bb27-bb7d-488a-82cd-d7f99e46f128",
   "metadata": {
    "scrolled": true
   },
   "outputs": [
    {
     "name": "stdout",
     "output_type": "stream",
     "text": [
      "Running on H2-2\n"
     ]
    },
    {
     "data": {
      "text/plain": [
       "{'cost': 0,\n",
       " 'number_of_qubits': 7,\n",
       " 'circuit_depth': 330,\n",
       " 'total_gates': 517,\n",
       " 'two_qubit_gates': 167,\n",
       " 'result_handle': ResultHandle('929cca77-68f2-4dc3-a452-af59f6b5c94f', 3009234),\n",
       " 'runtime': datetime.timedelta(seconds=30, microseconds=765886),\n",
       " 'x': array([ 0.35985609, -0.74428277, -0.28971167, -0.48230064]),\n",
       " 'two_norm_error': 0.9430770753004064,\n",
       " 'residual_error': 0.4093216791090782}"
      ]
     },
     "execution_count": 4,
     "metadata": {},
     "output_type": "execute_result"
    }
   ],
   "source": [
    "A = problem['A']\n",
    "b = problem['b']\n",
    "\n",
    "# Single Run\n",
    "solution = quantum_linear_solver(A, b, backend=backend, t0=2*np.pi, shots=1024)\n",
    "solution"
   ]
  },
  {
   "cell_type": "code",
   "execution_count": null,
   "id": "60fd2056-55a8-40e3-b0dd-24e863b8e9fb",
   "metadata": {},
   "outputs": [],
   "source": [
    "status = backend.circuit_status(solution['result_handle'])\n",
    "status"
   ]
  },
  {
   "cell_type": "code",
   "execution_count": null,
   "id": "9cdb8a85-9ba5-454e-8ee0-a3bfbc849411",
   "metadata": {},
   "outputs": [
    {
     "name": "stdout",
     "output_type": "stream",
     "text": [
      "Iteration: 1\n",
      "Running on H2-2\n",
      "residual: 0.24586805256739347\n",
      "error: 0.9258937091462371\n",
      "alpha: 0.4044523635877364\n",
      "\n",
      "Iteration: 2\n",
      "Running on H2-2\n",
      "residual: 0.19756100373099197\n",
      "error: 0.8245702262395642\n",
      "alpha: 0.5284672709358116\n",
      "\n",
      "Iteration: 3\n",
      "Running on H2-2\n"
     ]
    }
   ],
   "source": [
    "# Iterative Refinement\n",
    "refined_solution = IR(A, b, precision=1e-5, max_iter=5, backend=backend, plot=True)\n",
    "refined_solution"
   ]
  },
  {
   "cell_type": "code",
   "execution_count": null,
   "id": "e4d8a51d-1dc9-4f2b-847f-e3181b568f41",
   "metadata": {},
   "outputs": [],
   "source": [
    "df = pd.DataFrame()\n",
    "# Make a dataframe out of the results\n",
    "datarow = {\n",
    "    \"Backend\": backend.backend_config.device_name,\n",
    "    \"Problem Size\": f\"{len(b)} x {len(b)}\",\n",
    "    \"A\": problem[\"A\"],\n",
    "    \"b\": problem[\"b\"],\n",
    "    \"Condition Number\": problem[\"condition_number\"],\n",
    "    \"Sparsity\": problem[\"sparsity\"],\n",
    "    \"Number of Qubits\": solution[\"number_of_qubits\"],\n",
    "    \"Circuit Depth\": solution[\"circuit_depth\"],\n",
    "    \"Total Gates\": solution[\"total_gates\"],\n",
    "    \"Two-Qubit Gates\": solution[\"two_qubit_gates\"],  # Uncomment if needed\n",
    "    # \"Runtime\": solution[\"runtime\"],  # Uncomment if needed\n",
    "    \"||x_c - x_q|| without IR\": solution[\"two_norm_error\"],\n",
    "    \"||x_c - x_q|| with IR\": refined_solution[\"errors\"][-1],\n",
    "    \"||Ax - b|| without IR\": solution[\"residual_error\"],\n",
    "    \"||Ax - b|| with IR\": refined_solution[\"residuals\"][-1],\n",
    "    \"Total Iterations of IR\": refined_solution[\"total_iterations\"],\n",
    "    # \"Total Cost\": refined_solution[\"total_cost\"],\n",
    "    \"Error list\": refined_solution[\"errors\"],\n",
    "    \"Residual list\": refined_solution[\"residuals\"],\n",
    "}\n",
    "df = pd.concat([df, pd.DataFrame([datarow])], ignore_index=True)\n",
    "\n",
    "# Display the DataFrame without showing \"Error list\" and \"Residual list\"\n",
    "df_display = df.drop(columns=[\"Error list\", \"Residual list\", \"A\", \"b\"])\n",
    "\n",
    "df_display.style.hide(axis=\"index\").format(precision=6).set_caption(f\"{backend.backend_config.device_name} Results\")"
   ]
  },
  {
   "cell_type": "code",
   "execution_count": null,
   "id": "ff32f38c-a4a1-44dc-bf5d-e0a1062c4256",
   "metadata": {},
   "outputs": [],
   "source": []
  }
 ],
 "metadata": {
  "kernelspec": {
   "display_name": "Python [conda env:base] *",
   "language": "python",
   "name": "conda-base-py"
  },
  "language_info": {
   "codemirror_mode": {
    "name": "ipython",
    "version": 3
   },
   "file_extension": ".py",
   "mimetype": "text/x-python",
   "name": "python",
   "nbconvert_exporter": "python",
   "pygments_lexer": "ipython3",
   "version": "3.10.11"
  }
 },
 "nbformat": 4,
 "nbformat_minor": 5
}

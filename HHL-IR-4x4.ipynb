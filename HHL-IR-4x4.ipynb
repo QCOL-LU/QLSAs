{
 "cells": [
  {
   "cell_type": "code",
   "execution_count": 1,
   "id": "d4d505c6-d0e8-4d24-abed-9ed181f68b04",
   "metadata": {},
   "outputs": [
    {
     "name": "stdout",
     "output_type": "stream",
     "text": [
      "Qiskit version (should be 1.3.0): 1.4.0\n",
      "Qiskit Aer version (should be 0.15.1): 0.16.1\n",
      "Pytket version (should be 1.36.0): 1.40.0\n"
     ]
    }
   ],
   "source": [
    "# Custom imports\n",
    "from Generate_Problem import generate_problem\n",
    "from HHL_Circuit import hhl_circuit\n",
    "from Iterative_Refinement import norm_estimation, sign_estimation, IR\n",
    "from Quantum_Linear_Solver import quantum_linear_solver\n",
    "\n",
    "# Third-party libraries\n",
    "import numpy as np\n",
    "import pandas as pd\n",
    "\n",
    "# Qiskit imports\n",
    "import qiskit\n",
    "import qiskit_aer\n",
    "\n",
    "# PyTKet imports\n",
    "import pytket\n",
    "from pytket.extensions.nexus import NexusBackend\n",
    "from pytket.extensions.nexus import QuantinuumConfig\n",
    "\n",
    "\n",
    "# Filter warnings\n",
    "# warnings.filterwarnings(\"ignore\")\n",
    "\n",
    "# Matplotlib inline to visualize plots\n",
    "%matplotlib inline\n",
    "\n",
    "# Use py310-qiskit1.0 environment\n",
    "\n",
    "# Print library versions\n",
    "print(\"Qiskit version (should be 1.3.0):\", qiskit.__version__)\n",
    "print(\"Qiskit Aer version (should be 0.15.1):\", qiskit_aer.__version__)\n",
    "print(\"Pytket version (should be 1.36.0):\", pytket.__version__)"
   ]
  },
  {
   "cell_type": "code",
   "execution_count": 2,
   "id": "1477627f-ff5a-4e15-8be0-04db7855b406",
   "metadata": {},
   "outputs": [
    {
     "data": {
      "text/plain": [
       "{'A': array([[ 0.24, -0.  ,  0.  , -0.03],\n",
       "        [-0.  ,  0.61,  0.  ,  0.  ],\n",
       "        [ 0.  ,  0.  ,  0.51, -0.  ],\n",
       "        [-0.03,  0.  , -0.  ,  0.56]]),\n",
       " 'b': array([ 0.26, -0.1 , -0.08, -0.17]),\n",
       " 'csol': array([ 1.05243446, -0.16393443, -0.15686275, -0.24719101]),\n",
       " 'condition_number': 2.571541615252496,\n",
       " 'sparsity': 0.625,\n",
       " 'eigs': array([0.23721179, 0.51      , 0.56278821, 0.61      ])}"
      ]
     },
     "execution_count": 2,
     "metadata": {},
     "output_type": "execute_result"
    }
   ],
   "source": [
    "problem = generate_problem(4, cond_number=5, sparsity=0.5, seed=1)\n",
    "problem"
   ]
  },
  {
   "cell_type": "code",
   "execution_count": 3,
   "id": "c63c728e-c65a-4f0e-b19f-cab1bc1e73f9",
   "metadata": {},
   "outputs": [
    {
     "name": "stdout",
     "output_type": "stream",
     "text": [
      "\n",
      "Started using project with name: HHL-IR\n"
     ]
    }
   ],
   "source": [
    "# Create config object to specify details of desired backend\n",
    "configuration = QuantinuumConfig(device_name='H2-2', attempt_batching=True)\n",
    "\n",
    "# Set up a Nexus Project to compartmentalize running jobs and data\n",
    "# Create a NexusBackend using our config and our retrieved project\n",
    "backend = NexusBackend(configuration, project_name='HHL-IR')"
   ]
  },
  {
   "cell_type": "code",
   "execution_count": 4,
   "id": "ead3bb27-bb7d-488a-82cd-d7f99e46f128",
   "metadata": {
    "scrolled": true
   },
   "outputs": [
    {
     "name": "stdout",
     "output_type": "stream",
     "text": [
      "Running on H2-2\n"
     ]
    },
    {
     "data": {
      "text/plain": [
       "{'cost': 0,\n",
       " 'number_of_qubits': 7,\n",
       " 'circuit_depth': 326,\n",
       " 'total_gates': 508,\n",
       " 'two_qubit_gates': 166,\n",
       " 'result_handle': ResultHandle('a8b0a29b-c78e-4687-82fb-e2806b965e8e', 3131674),\n",
       " 'runtime': datetime.timedelta(seconds=33, microseconds=468015),\n",
       " 'x': array([ 0.33857665, -0.75060951, -0.27050089, -0.498779  ]),\n",
       " 'two_norm_error': 0.9643602887690206,\n",
       " 'residual_error': 0.41536525656379464}"
      ]
     },
     "execution_count": 4,
     "metadata": {},
     "output_type": "execute_result"
    }
   ],
   "source": [
    "A = problem['A']\n",
    "b = problem['b']\n",
    "\n",
    "# Single Run\n",
    "solution = quantum_linear_solver(A, b, backend=backend, t0=2*np.pi, shots=1024)\n",
    "solution"
   ]
  },
  {
   "cell_type": "code",
   "execution_count": 5,
   "id": "60fd2056-55a8-40e3-b0dd-24e863b8e9fb",
   "metadata": {},
   "outputs": [
    {
     "data": {
      "text/plain": [
       "CircuitStatus(status=<StatusEnum.COMPLETED: 'Circuit has completed. Results are ready.'>, message='Circuit has completed.', error_detail=None, completed_time=datetime.datetime(2025, 3, 19, 8, 22, 10, 133067, tzinfo=datetime.timezone.utc), queued_time=datetime.datetime(2025, 3, 19, 6, 49, 36, 388304, tzinfo=datetime.timezone.utc), submitted_time=datetime.datetime(2025, 3, 19, 6, 46, 26, 606519, tzinfo=datetime.timezone.utc), running_time=datetime.datetime(2025, 3, 19, 8, 21, 36, 665052, tzinfo=datetime.timezone.utc), cancelled_time=None, error_time=None, queue_position=None)"
      ]
     },
     "execution_count": 5,
     "metadata": {},
     "output_type": "execute_result"
    }
   ],
   "source": [
    "status = backend.circuit_status(solution['result_handle'])\n",
    "status"
   ]
  },
  {
   "cell_type": "code",
   "execution_count": 6,
   "id": "9cdb8a85-9ba5-454e-8ee0-a3bfbc849411",
   "metadata": {},
   "outputs": [
    {
     "name": "stdout",
     "output_type": "stream",
     "text": [
      "Iteration: 1\n",
      "Running on H2-2\n",
      "residual: 0.2403904674343334\n",
      "error: 0.9120860759135845\n",
      "alpha: 0.418827696518469\n",
      "\n",
      "Iteration: 2\n",
      "Running on H2-2\n",
      "residual: 0.20664647749770393\n",
      "error: 0.8480324930355637\n",
      "alpha: 0.4461404824894712\n",
      "\n",
      "Iteration: 3\n",
      "Running on H2-2\n"
     ]
    },
    {
     "ename": "ResourceFetchFailed",
     "evalue": "Failed to fetch resource with status code: None, message: Cannot retrieve result; job status is JobStatus(status=<JobStatusEnum.ERROR: 'ERROR'>, message='Job not found', error_detail=None, completed_time=None, queued_time=None, submitted_time=None, running_time=None, cancelled_time=None, error_time=None, queue_position=None)",
     "output_type": "error",
     "traceback": [
      "\u001b[0;31m---------------------------------------------------------------------------\u001b[0m",
      "\u001b[0;31mResourceFetchFailed\u001b[0m                       Traceback (most recent call last)",
      "Cell \u001b[0;32mIn[6], line 2\u001b[0m\n\u001b[1;32m      1\u001b[0m \u001b[38;5;66;03m# Iterative Refinement\u001b[39;00m\n\u001b[0;32m----> 2\u001b[0m refined_solution \u001b[38;5;241m=\u001b[39m \u001b[43mIR\u001b[49m\u001b[43m(\u001b[49m\u001b[43mA\u001b[49m\u001b[43m,\u001b[49m\u001b[43m \u001b[49m\u001b[43mb\u001b[49m\u001b[43m,\u001b[49m\u001b[43m \u001b[49m\u001b[43mprecision\u001b[49m\u001b[38;5;241;43m=\u001b[39;49m\u001b[38;5;241;43m1e-5\u001b[39;49m\u001b[43m,\u001b[49m\u001b[43m \u001b[49m\u001b[43mmax_iter\u001b[49m\u001b[38;5;241;43m=\u001b[39;49m\u001b[38;5;241;43m5\u001b[39;49m\u001b[43m,\u001b[49m\u001b[43m \u001b[49m\u001b[43mbackend\u001b[49m\u001b[38;5;241;43m=\u001b[39;49m\u001b[43mbackend\u001b[49m\u001b[43m,\u001b[49m\u001b[43m \u001b[49m\u001b[43mplot\u001b[49m\u001b[38;5;241;43m=\u001b[39;49m\u001b[38;5;28;43;01mTrue\u001b[39;49;00m\u001b[43m)\u001b[49m\n\u001b[1;32m      3\u001b[0m refined_solution\n",
      "File \u001b[0;32m~/Quantum Linear Solver/QLSAs/Iterative_Refinement.py:60\u001b[0m, in \u001b[0;36mIR\u001b[0;34m(A, b, precision, max_iter, backend, plot)\u001b[0m\n\u001b[1;32m     58\u001b[0m \u001b[38;5;28mprint\u001b[39m(\u001b[38;5;124m\"\u001b[39m\u001b[38;5;124mIteration:\u001b[39m\u001b[38;5;124m\"\u001b[39m, iteration)\n\u001b[1;32m     59\u001b[0m new_r \u001b[38;5;241m=\u001b[39m nabla\u001b[38;5;241m*\u001b[39mr\n\u001b[0;32m---> 60\u001b[0m result \u001b[38;5;241m=\u001b[39m \u001b[43mquantum_linear_solver\u001b[49m\u001b[43m(\u001b[49m\u001b[43mA\u001b[49m\u001b[43m,\u001b[49m\u001b[43m \u001b[49m\u001b[43mnew_r\u001b[49m\u001b[43m,\u001b[49m\u001b[43m \u001b[49m\u001b[43mbackend\u001b[49m\u001b[38;5;241;43m=\u001b[39;49m\u001b[43mbackend\u001b[49m\u001b[43m,\u001b[49m\u001b[43m \u001b[49m\u001b[43mt0\u001b[49m\u001b[38;5;241;43m=\u001b[39;49m\u001b[38;5;241;43m2\u001b[39;49m\u001b[38;5;241;43m*\u001b[39;49m\u001b[43mnp\u001b[49m\u001b[38;5;241;43m.\u001b[39;49m\u001b[43mpi\u001b[49m\u001b[43m,\u001b[49m\u001b[43m \u001b[49m\u001b[43mshots\u001b[49m\u001b[38;5;241;43m=\u001b[39;49m\u001b[38;5;241;43m1024\u001b[39;49m\u001b[43m)\u001b[49m\n\u001b[1;32m     61\u001b[0m cost \u001b[38;5;241m+\u001b[39m\u001b[38;5;241m=\u001b[39m result[\u001b[38;5;124m'\u001b[39m\u001b[38;5;124mcost\u001b[39m\u001b[38;5;124m'\u001b[39m]\n\u001b[1;32m     62\u001b[0m c \u001b[38;5;241m=\u001b[39m result[\u001b[38;5;124m'\u001b[39m\u001b[38;5;124mx\u001b[39m\u001b[38;5;124m'\u001b[39m]\n",
      "File \u001b[0;32m~/Quantum Linear Solver/QLSAs/Quantum_Linear_Solver.py:57\u001b[0m, in \u001b[0;36mquantum_linear_solver\u001b[0;34m(A, b, backend, t0, shots)\u001b[0m\n\u001b[1;32m     54\u001b[0m result_handle \u001b[38;5;241m=\u001b[39m backend\u001b[38;5;241m.\u001b[39mprocess_circuit(new_qtuum_circuit, n_shots\u001b[38;5;241m=\u001b[39mshots)\n\u001b[1;32m     55\u001b[0m solution[\u001b[38;5;124m'\u001b[39m\u001b[38;5;124mresult_handle\u001b[39m\u001b[38;5;124m'\u001b[39m] \u001b[38;5;241m=\u001b[39m result_handle\n\u001b[0;32m---> 57\u001b[0m result \u001b[38;5;241m=\u001b[39m \u001b[43mbackend\u001b[49m\u001b[38;5;241;43m.\u001b[39;49m\u001b[43mget_result\u001b[49m\u001b[43m(\u001b[49m\u001b[43mresult_handle\u001b[49m\u001b[43m)\u001b[49m  \u001b[38;5;66;03m# only works if job completed\u001b[39;00m\n\u001b[1;32m     58\u001b[0m status \u001b[38;5;241m=\u001b[39m backend\u001b[38;5;241m.\u001b[39mcircuit_status(result_handle)\n\u001b[1;32m     60\u001b[0m \u001b[38;5;28;01mtry\u001b[39;00m:\n",
      "File \u001b[0;32m/opt/conda/lib/python3.11/site-packages/pytket/extensions/nexus/backends.py:485\u001b[0m, in \u001b[0;36mNexusBackend.get_result\u001b[0;34m(self, handle, **kwargs)\u001b[0m\n\u001b[1;32m    480\u001b[0m     \u001b[38;5;28;01mraise\u001b[39;00m ResourceFetchFailed(\n\u001b[1;32m    481\u001b[0m         \u001b[38;5;124mf\u001b[39m\u001b[38;5;124m\"\u001b[39m\u001b[38;5;124mResult request timed out after waiting \u001b[39m\u001b[38;5;132;01m{\u001b[39;00mtimeout\u001b[38;5;132;01m}\u001b[39;00m\u001b[38;5;124m seconds.\u001b[39m\u001b[38;5;124m\"\u001b[39m\n\u001b[1;32m    482\u001b[0m     ) \u001b[38;5;28;01mfrom\u001b[39;00m\u001b[38;5;250m \u001b[39m\u001b[38;5;21;01mexc\u001b[39;00m\n\u001b[1;32m    484\u001b[0m \u001b[38;5;28;01mif\u001b[39;00m status\u001b[38;5;241m.\u001b[39mstatus \u001b[38;5;129;01mis\u001b[39;00m \u001b[38;5;129;01mnot\u001b[39;00m JobStatusEnum\u001b[38;5;241m.\u001b[39mCOMPLETED:\n\u001b[0;32m--> 485\u001b[0m     \u001b[38;5;28;01mraise\u001b[39;00m ResourceFetchFailed(\u001b[38;5;124mf\u001b[39m\u001b[38;5;124m\"\u001b[39m\u001b[38;5;124mCannot retrieve result; job status is \u001b[39m\u001b[38;5;132;01m{\u001b[39;00mstatus\u001b[38;5;132;01m}\u001b[39;00m\u001b[38;5;124m\"\u001b[39m)\n\u001b[1;32m    487\u001b[0m execute_job_item \u001b[38;5;241m=\u001b[39m \u001b[38;5;28mself\u001b[39m\u001b[38;5;241m.\u001b[39mproject\u001b[38;5;241m.\u001b[39mget_execute_job(job_id\u001b[38;5;241m=\u001b[39mjob_id)\u001b[38;5;241m.\u001b[39mget_job_item(\n\u001b[1;32m    488\u001b[0m     job_item_id\u001b[38;5;241m=\u001b[39mjob_item_id\n\u001b[1;32m    489\u001b[0m )\n\u001b[1;32m    491\u001b[0m result \u001b[38;5;241m=\u001b[39m execute_job_item\u001b[38;5;241m.\u001b[39mresult\n",
      "\u001b[0;31mResourceFetchFailed\u001b[0m: Failed to fetch resource with status code: None, message: Cannot retrieve result; job status is JobStatus(status=<JobStatusEnum.ERROR: 'ERROR'>, message='Job not found', error_detail=None, completed_time=None, queued_time=None, submitted_time=None, running_time=None, cancelled_time=None, error_time=None, queue_position=None)"
     ]
    }
   ],
   "source": [
    "# Iterative Refinement\n",
    "refined_solution = IR(A, b, precision=1e-5, max_iter=5, backend=backend, plot=True)\n",
    "refined_solution"
   ]
  },
  {
   "cell_type": "code",
   "execution_count": null,
   "id": "e4d8a51d-1dc9-4f2b-847f-e3181b568f41",
   "metadata": {},
   "outputs": [],
   "source": [
    "df = pd.DataFrame()\n",
    "# Make a dataframe out of the results\n",
    "datarow = {\n",
    "    \"Backend\": backend.backend_config.device_name,\n",
    "    \"Problem Size\": f\"{len(b)} x {len(b)}\",\n",
    "    \"A\": problem[\"A\"],\n",
    "    \"b\": problem[\"b\"],\n",
    "    \"Condition Number\": problem[\"condition_number\"],\n",
    "    \"Sparsity\": problem[\"sparsity\"],\n",
    "    \"Number of Qubits\": solution[\"number_of_qubits\"],\n",
    "    \"Circuit Depth\": solution[\"circuit_depth\"],\n",
    "    \"Total Gates\": solution[\"total_gates\"],\n",
    "    \"Two-Qubit Gates\": solution[\"two_qubit_gates\"],  # Uncomment if needed\n",
    "    # \"Runtime\": solution[\"runtime\"],  # Uncomment if needed\n",
    "    \"||x_c - x_q|| without IR\": solution[\"two_norm_error\"],\n",
    "    \"||x_c - x_q|| with IR\": refined_solution[\"errors\"][-1],\n",
    "    \"||Ax - b|| without IR\": solution[\"residual_error\"],\n",
    "    \"||Ax - b|| with IR\": refined_solution[\"residuals\"][-1],\n",
    "    \"Total Iterations of IR\": refined_solution[\"total_iterations\"],\n",
    "    # \"Total Cost\": refined_solution[\"total_cost\"],\n",
    "    \"Error list\": refined_solution[\"errors\"],\n",
    "    \"Residual list\": refined_solution[\"residuals\"],\n",
    "}\n",
    "df = pd.concat([df, pd.DataFrame([datarow])], ignore_index=True)\n",
    "\n",
    "# Display the DataFrame without showing \"Error list\" and \"Residual list\"\n",
    "df_display = df.drop(columns=[\"Error list\", \"Residual list\", \"A\", \"b\"])\n",
    "\n",
    "df_display.style.hide(axis=\"index\").format(precision=6).set_caption(f\"{backend.backend_config.device_name} Results\")"
   ]
  }
 ],
 "metadata": {
  "kernelspec": {
   "display_name": "Python [conda env:base] *",
   "language": "python",
   "name": "conda-base-py"
  },
  "language_info": {
   "codemirror_mode": {
    "name": "ipython",
    "version": 3
   },
   "file_extension": ".py",
   "mimetype": "text/x-python",
   "name": "python",
   "nbconvert_exporter": "python",
   "pygments_lexer": "ipython3",
   "version": "3.11.6"
  }
 },
 "nbformat": 4,
 "nbformat_minor": 5
}

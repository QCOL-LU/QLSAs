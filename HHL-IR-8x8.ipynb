{
 "cells": [
  {
   "cell_type": "code",
   "execution_count": 1,
   "id": "d4d505c6-d0e8-4d24-abed-9ed181f68b04",
   "metadata": {},
   "outputs": [
    {
     "name": "stdout",
     "output_type": "stream",
     "text": [
      "Qiskit version (should be 1.3.0): 1.4.2\n",
      "Qiskit Aer version (should be 0.15.1): 0.16.1\n",
      "Pytket version (should be 1.36.0): 1.40.0\n"
     ]
    }
   ],
   "source": [
    "# Custom imports\n",
    "from Generate_Problem import generate_problem\n",
    "from HHL_Circuit import hhl_circuit\n",
    "from Iterative_Refinement import norm_estimation, sign_estimation, IR\n",
    "#from Quantum_Linear_Solver import quantum_linear_solver\n",
    "\n",
    "# Third-party libraries\n",
    "import numpy as np\n",
    "import pandas as pd\n",
    "\n",
    "# Qiskit imports\n",
    "import qiskit\n",
    "import qiskit_aer\n",
    "\n",
    "# PyTKet imports\n",
    "import pytket\n",
    "import qnexus as qnx\n",
    "from pytket.extensions.nexus import NexusBackend\n",
    "from pytket.extensions.nexus import QuantinuumConfig\n",
    "\n",
    "\n",
    "\n",
    "# Filter warnings\n",
    "# warnings.filterwarnings(\"ignore\")\n",
    "\n",
    "# Matplotlib inline to visualize plots\n",
    "%matplotlib inline\n",
    "\n",
    "# Use py310-qiskit1.0 environment\n",
    "\n",
    "# Print library versions\n",
    "print(\"Qiskit version (should be 1.3.0):\", qiskit.__version__)\n",
    "print(\"Qiskit Aer version (should be 0.15.1):\", qiskit_aer.__version__)\n",
    "print(\"Pytket version (should be 1.36.0):\", pytket.__version__)"
   ]
  },
  {
   "cell_type": "code",
   "execution_count": 2,
   "id": "1477627f-ff5a-4e15-8be0-04db7855b406",
   "metadata": {},
   "outputs": [
    {
     "data": {
      "text/plain": [
       "{'A': array([[ 0.31, -0.  , -0.  ,  0.  ,  0.07, -0.02,  0.  , -0.  ],\n",
       "        [-0.  ,  0.38, -0.  , -0.  , -0.  ,  0.03,  0.  , -0.  ],\n",
       "        [-0.  , -0.  ,  0.21,  0.05, -0.  ,  0.  , -0.  , -0.  ],\n",
       "        [ 0.  , -0.  ,  0.05,  0.42, -0.  ,  0.  ,  0.  ,  0.  ],\n",
       "        [ 0.07, -0.  , -0.  , -0.  ,  0.39,  0.  ,  0.  , -0.  ],\n",
       "        [-0.02,  0.03,  0.  ,  0.  ,  0.  ,  0.42, -0.  ,  0.  ],\n",
       "        [ 0.  ,  0.  , -0.  ,  0.  ,  0.  , -0.  ,  0.3 , -0.  ],\n",
       "        [-0.  , -0.  , -0.  ,  0.  , -0.  ,  0.  , -0.  ,  0.32]]),\n",
       " 'b': array([ 0.19, -0.07, -0.06, -0.12,  0.1 , -0.26,  0.2 , -0.09]),\n",
       " 'csol': array([ 0.53921271, -0.13814447, -0.22403734, -0.25904317,  0.15962849,\n",
       "        -0.58350336,  0.66666667, -0.28125   ]),\n",
       " 'condition_number': 2.2325705187412592,\n",
       " 'sparsity': 0.75,\n",
       " 'eigs': array([0.19870297, 0.26730084, 0.3       , 0.32      , 0.36430171,\n",
       "        0.42477906, 0.43129703, 0.44361839])}"
      ]
     },
     "execution_count": 2,
     "metadata": {},
     "output_type": "execute_result"
    }
   ],
   "source": [
    "problem = generate_problem(8, cond_number=5, sparsity=0.5, seed=1)\n",
    "problem"
   ]
  },
  {
   "cell_type": "code",
   "execution_count": 3,
   "id": "c63c728e-c65a-4f0e-b19f-cab1bc1e73f9",
   "metadata": {
    "editable": true,
    "slideshow": {
     "slide_type": ""
    },
    "tags": []
   },
   "outputs": [
    {
     "name": "stdout",
     "output_type": "stream",
     "text": [
      "\n",
      "Started using project with name: HHL-IR\n"
     ]
    }
   ],
   "source": [
    "# Create config object to specify details of desired backend\n",
    "configuration = QuantinuumConfig(device_name='H2-2', attempt_batching=True)\n",
    "\n",
    "# Set up a Nexus Project to compartmentalize running jobs and data\n",
    "# Create a NexusBackend using our config and our retrieved project\n",
    "backend = NexusBackend(configuration, project_name='HHL-IR')"
   ]
  },
  {
   "cell_type": "code",
   "execution_count": 6,
   "id": "304ff619-6aca-4dc7-88fd-396e761ef3c5",
   "metadata": {},
   "outputs": [],
   "source": [
    "from HHL_Circuit import hhl_circuit\n",
    "import numpy as np\n",
    "import math\n",
    "from numpy import linalg as LA\n",
    "from numpy.linalg import solve\n",
    "from qiskit import transpile\n",
    "from qiskit_aer import AerSimulator\n",
    "from pytket.extensions.nexus import NexusBackend\n",
    "from pytket.extensions.qiskit import qiskit_to_tk\n",
    "\n",
    "\n",
    "def quantum_linear_solver_patched(A, b, backend, t0=2*np.pi, shots=1024):  # run hhl circuit on a quantum backend and post-process the result\n",
    "    \"\"\"\n",
    "    Run the hhl circuit on a quantinuum backend and return the result and the compiled circuit.\n",
    "    Returns:\n",
    "    The post-processed result of the quantum linear solver (x), and a whole bunch of stats about the circuit.\n",
    "    \"\"\"\n",
    "    csol = solve(A, b)\n",
    "    solution = {}\n",
    "\n",
    "    hhl_circ = hhl_circuit(A, b, t0)\n",
    "    # transpile in qiskit then convert to a tket circuit if backend is from quantinuum\n",
    "    qiskit_circuit = transpile(hhl_circ, AerSimulator())\n",
    "\n",
    "    if isinstance(backend, NexusBackend):\n",
    "        print(f\"Running on {backend.backend_config.device_name}\")\n",
    "        qtuum_circuit = qiskit_to_tk(qiskit_circuit)\n",
    "        # re-transpile to quantinuum backend\n",
    "        new_qtuum_circuit = backend.get_compiled_circuit(qtuum_circuit, optimisation_level=2)\n",
    "\n",
    "        try:\n",
    "            syntax_checker = backend.backend_config.device_name[:4] + \"SC\"\n",
    "            solution['cost'] = backend.cost(new_qtuum_circuit, shots, syntax_checker)\n",
    "        except Exception:\n",
    "            solution['cost'] = 0\n",
    "\n",
    "        # Get circuit stats\n",
    "        solution['number_of_qubits'] = new_qtuum_circuit.n_qubits\n",
    "        solution['circuit_depth'] = new_qtuum_circuit.depth()\n",
    "        solution['total_gates'] = new_qtuum_circuit.n_gates\n",
    "        solution['two_qubit_gates'] = new_qtuum_circuit.n_2qb_gates()\n",
    "\n",
    "        # Run circuit\n",
    "        result_handle = ('2196ca2f-e935-4ade-b877-a028e6a6edd7', 3147224)\n",
    "        solution['result_handle'] = result_handle\n",
    "\n",
    "        result = backend.get_result(result_handle)  # only works if job completed\n",
    "        status = backend.circuit_status(result_handle)\n",
    "\n",
    "        try:\n",
    "            solution['runtime'] = status.completed_time - status.running_time\n",
    "        except Exception:\n",
    "            # Skip the line if an error occurs\n",
    "            solution['runtime'] = 'Not Found'\n",
    "\n",
    "    else:\n",
    "        print('backend should be a NexusBackend')\n",
    "\n",
    "    def process_result(result):  # process the result of the quantum linear solver and return the solution vector\n",
    "        \"\"\"\n",
    "        Process the result of the quantum linear solver and return the solution vector.\n",
    "        \"\"\"\n",
    "        # Get the counts\n",
    "        counts = result.get_counts()\n",
    "\n",
    "        def solution_vector(counts, b):\n",
    "            b_num = int(math.log2(len(b)))\n",
    "            num = 0  # for normalization\n",
    "            app_sol = np.zeros(2 ** b_num)\n",
    "\n",
    "            if isinstance(backend, AerSimulator):\n",
    "                for key, value in counts.items():\n",
    "                    if key[-1] == '1':\n",
    "                        num += value\n",
    "                        cord = int(key[:b_num], base=2)  # position in b vector from binary string\n",
    "                        app_sol[cord] = value\n",
    "                if num == 0:\n",
    "                    return app_sol\n",
    "                app_sol = np.sqrt(app_sol/num)\n",
    "                # app_sol = app_sol/num\n",
    "                return app_sol\n",
    "\n",
    "            else:\n",
    "                for key, value in counts.items():\n",
    "                    key_str = \"\".join(str(bit) for bit in key)\n",
    "                    if key_str[-1] == '1':\n",
    "                        num += value\n",
    "                        cord = int(key_str[:b_num], base=2)\n",
    "                        app_sol[cord] = value\n",
    "                if num == 0:\n",
    "                    return app_sol\n",
    "                app_sol = np.sqrt(app_sol/num)\n",
    "                # app_sol = app_sol/num\n",
    "                return app_sol\n",
    "\n",
    "        # Extract approximate solution\n",
    "        qsol = solution_vector(counts, b)\n",
    "\n",
    "        # Avoiding sign estimation for now\n",
    "        for idx, (i, j) in enumerate(zip(csol, qsol)):\n",
    "            if i < 0:\n",
    "                qsol[idx] = -j\n",
    "        return qsol\n",
    "\n",
    "    x = process_result(result)\n",
    "    solution['x'] = x\n",
    "\n",
    "    two_norm_error = LA.norm(csol - x)\n",
    "    solution['two_norm_error'] = two_norm_error\n",
    "\n",
    "    residual_error = LA.norm(b - A @ x)\n",
    "    solution['residual_error'] = residual_error\n",
    "\n",
    "    return solution"
   ]
  },
  {
   "cell_type": "code",
   "execution_count": 7,
   "id": "ead3bb27-bb7d-488a-82cd-d7f99e46f128",
   "metadata": {
    "scrolled": true
   },
   "outputs": [
    {
     "name": "stdout",
     "output_type": "stream",
     "text": [
      "Running on H2-2\n"
     ]
    },
    {
     "ename": "ResourceFetchFailed",
     "evalue": "Failed to fetch resource with status code: 404, message: {\"message\":\"Resource Not Found\"}",
     "output_type": "error",
     "traceback": [
      "\u001b[0;31m---------------------------------------------------------------------------\u001b[0m",
      "\u001b[0;31mResourceFetchFailed\u001b[0m                       Traceback (most recent call last)",
      "Cell \u001b[0;32mIn[7], line 5\u001b[0m\n\u001b[1;32m      2\u001b[0m b \u001b[38;5;241m=\u001b[39m problem[\u001b[38;5;124m'\u001b[39m\u001b[38;5;124mb\u001b[39m\u001b[38;5;124m'\u001b[39m]\n\u001b[1;32m      4\u001b[0m \u001b[38;5;66;03m# Single Run\u001b[39;00m\n\u001b[0;32m----> 5\u001b[0m solution \u001b[38;5;241m=\u001b[39m \u001b[43mquantum_linear_solver_patched\u001b[49m\u001b[43m(\u001b[49m\u001b[43mA\u001b[49m\u001b[43m,\u001b[49m\u001b[43m \u001b[49m\u001b[43mb\u001b[49m\u001b[43m,\u001b[49m\u001b[43m \u001b[49m\u001b[43mbackend\u001b[49m\u001b[38;5;241;43m=\u001b[39;49m\u001b[43mbackend\u001b[49m\u001b[43m,\u001b[49m\u001b[43m \u001b[49m\u001b[43mt0\u001b[49m\u001b[38;5;241;43m=\u001b[39;49m\u001b[38;5;241;43m2\u001b[39;49m\u001b[38;5;241;43m*\u001b[39;49m\u001b[43mnp\u001b[49m\u001b[38;5;241;43m.\u001b[39;49m\u001b[43mpi\u001b[49m\u001b[43m,\u001b[49m\u001b[43m \u001b[49m\u001b[43mshots\u001b[49m\u001b[38;5;241;43m=\u001b[39;49m\u001b[38;5;241;43m1024\u001b[39;49m\u001b[43m)\u001b[49m\n\u001b[1;32m      6\u001b[0m solution\n",
      "Cell \u001b[0;32mIn[6], line 57\u001b[0m, in \u001b[0;36mquantum_linear_solver_patched\u001b[0;34m(A, b, backend, t0, shots)\u001b[0m\n\u001b[1;32m     54\u001b[0m result_handle \u001b[38;5;241m=\u001b[39m (\u001b[38;5;124m'\u001b[39m\u001b[38;5;124m2196ca2f-e935-4ade-b877-a028e6a6edd7\u001b[39m\u001b[38;5;124m'\u001b[39m, \u001b[38;5;241m3147224\u001b[39m)\n\u001b[1;32m     55\u001b[0m solution[\u001b[38;5;124m'\u001b[39m\u001b[38;5;124mresult_handle\u001b[39m\u001b[38;5;124m'\u001b[39m] \u001b[38;5;241m=\u001b[39m result_handle\n\u001b[0;32m---> 57\u001b[0m result \u001b[38;5;241m=\u001b[39m \u001b[43mbackend\u001b[49m\u001b[38;5;241;43m.\u001b[39;49m\u001b[43mget_result\u001b[49m\u001b[43m(\u001b[49m\u001b[43mresult_handle\u001b[49m\u001b[43m)\u001b[49m  \u001b[38;5;66;03m# only works if job completed\u001b[39;00m\n\u001b[1;32m     58\u001b[0m status \u001b[38;5;241m=\u001b[39m backend\u001b[38;5;241m.\u001b[39mcircuit_status(result_handle)\n\u001b[1;32m     60\u001b[0m \u001b[38;5;28;01mtry\u001b[39;00m:\n",
      "File \u001b[0;32m/opt/conda/lib/python3.11/site-packages/pytket/extensions/nexus/backends.py:473\u001b[0m, in \u001b[0;36mNexusBackend.get_result\u001b[0;34m(self, handle, **kwargs)\u001b[0m\n\u001b[1;32m    471\u001b[0m \u001b[38;5;28;01mtry\u001b[39;00m:\n\u001b[1;32m    472\u001b[0m     job_id, job_item_id \u001b[38;5;241m=\u001b[39m destructure_result_handle(handle)\n\u001b[0;32m--> 473\u001b[0m     status \u001b[38;5;241m=\u001b[39m \u001b[43masyncio\u001b[49m\u001b[38;5;241;43m.\u001b[39;49m\u001b[43mrun\u001b[49m\u001b[43m(\u001b[49m\n\u001b[1;32m    474\u001b[0m \u001b[43m        \u001b[49m\u001b[43masyncio\u001b[49m\u001b[38;5;241;43m.\u001b[39;49m\u001b[43mwait_for\u001b[49m\u001b[43m(\u001b[49m\n\u001b[1;32m    475\u001b[0m \u001b[43m            \u001b[49m\u001b[38;5;28;43mself\u001b[39;49m\u001b[38;5;241;43m.\u001b[39;49m\u001b[43mclient\u001b[49m\u001b[38;5;241;43m.\u001b[39;49m\u001b[43mlisten_job_status\u001b[49m\u001b[43m(\u001b[49m\u001b[43mjob_id\u001b[49m\u001b[38;5;241;43m=\u001b[39;49m\u001b[43mjob_id\u001b[49m\u001b[43m)\u001b[49m\u001b[43m,\u001b[49m\n\u001b[1;32m    476\u001b[0m \u001b[43m            \u001b[49m\u001b[43mtimeout\u001b[49m\u001b[38;5;241;43m=\u001b[39;49m\u001b[43mtimeout\u001b[49m\u001b[43m,\u001b[49m\n\u001b[1;32m    477\u001b[0m \u001b[43m        \u001b[49m\u001b[43m)\u001b[49m\n\u001b[1;32m    478\u001b[0m \u001b[43m    \u001b[49m\u001b[43m)\u001b[49m\n\u001b[1;32m    479\u001b[0m \u001b[38;5;28;01mexcept\u001b[39;00m asyncio\u001b[38;5;241m.\u001b[39mTimeoutError \u001b[38;5;28;01mas\u001b[39;00m exc:\n\u001b[1;32m    480\u001b[0m     \u001b[38;5;28;01mraise\u001b[39;00m ResourceFetchFailed(\n\u001b[1;32m    481\u001b[0m         \u001b[38;5;124mf\u001b[39m\u001b[38;5;124m\"\u001b[39m\u001b[38;5;124mResult request timed out after waiting \u001b[39m\u001b[38;5;132;01m{\u001b[39;00mtimeout\u001b[38;5;132;01m}\u001b[39;00m\u001b[38;5;124m seconds.\u001b[39m\u001b[38;5;124m\"\u001b[39m\n\u001b[1;32m    482\u001b[0m     ) \u001b[38;5;28;01mfrom\u001b[39;00m\u001b[38;5;250m \u001b[39m\u001b[38;5;21;01mexc\u001b[39;00m\n",
      "File \u001b[0;32m/opt/conda/lib/python3.11/site-packages/nest_asyncio.py:30\u001b[0m, in \u001b[0;36m_patch_asyncio.<locals>.run\u001b[0;34m(main, debug)\u001b[0m\n\u001b[1;32m     28\u001b[0m task \u001b[38;5;241m=\u001b[39m asyncio\u001b[38;5;241m.\u001b[39mensure_future(main)\n\u001b[1;32m     29\u001b[0m \u001b[38;5;28;01mtry\u001b[39;00m:\n\u001b[0;32m---> 30\u001b[0m     \u001b[38;5;28;01mreturn\u001b[39;00m \u001b[43mloop\u001b[49m\u001b[38;5;241;43m.\u001b[39;49m\u001b[43mrun_until_complete\u001b[49m\u001b[43m(\u001b[49m\u001b[43mtask\u001b[49m\u001b[43m)\u001b[49m\n\u001b[1;32m     31\u001b[0m \u001b[38;5;28;01mfinally\u001b[39;00m:\n\u001b[1;32m     32\u001b[0m     \u001b[38;5;28;01mif\u001b[39;00m \u001b[38;5;129;01mnot\u001b[39;00m task\u001b[38;5;241m.\u001b[39mdone():\n",
      "File \u001b[0;32m/opt/conda/lib/python3.11/site-packages/nest_asyncio.py:98\u001b[0m, in \u001b[0;36m_patch_loop.<locals>.run_until_complete\u001b[0;34m(self, future)\u001b[0m\n\u001b[1;32m     95\u001b[0m \u001b[38;5;28;01mif\u001b[39;00m \u001b[38;5;129;01mnot\u001b[39;00m f\u001b[38;5;241m.\u001b[39mdone():\n\u001b[1;32m     96\u001b[0m     \u001b[38;5;28;01mraise\u001b[39;00m \u001b[38;5;167;01mRuntimeError\u001b[39;00m(\n\u001b[1;32m     97\u001b[0m         \u001b[38;5;124m'\u001b[39m\u001b[38;5;124mEvent loop stopped before Future completed.\u001b[39m\u001b[38;5;124m'\u001b[39m)\n\u001b[0;32m---> 98\u001b[0m \u001b[38;5;28;01mreturn\u001b[39;00m \u001b[43mf\u001b[49m\u001b[38;5;241;43m.\u001b[39;49m\u001b[43mresult\u001b[49m\u001b[43m(\u001b[49m\u001b[43m)\u001b[49m\n",
      "File \u001b[0;32m/opt/conda/lib/python3.11/asyncio/futures.py:203\u001b[0m, in \u001b[0;36mFuture.result\u001b[0;34m(self)\u001b[0m\n\u001b[1;32m    201\u001b[0m \u001b[38;5;28mself\u001b[39m\u001b[38;5;241m.\u001b[39m__log_traceback \u001b[38;5;241m=\u001b[39m \u001b[38;5;28;01mFalse\u001b[39;00m\n\u001b[1;32m    202\u001b[0m \u001b[38;5;28;01mif\u001b[39;00m \u001b[38;5;28mself\u001b[39m\u001b[38;5;241m.\u001b[39m_exception \u001b[38;5;129;01mis\u001b[39;00m \u001b[38;5;129;01mnot\u001b[39;00m \u001b[38;5;28;01mNone\u001b[39;00m:\n\u001b[0;32m--> 203\u001b[0m     \u001b[38;5;28;01mraise\u001b[39;00m \u001b[38;5;28mself\u001b[39m\u001b[38;5;241m.\u001b[39m_exception\u001b[38;5;241m.\u001b[39mwith_traceback(\u001b[38;5;28mself\u001b[39m\u001b[38;5;241m.\u001b[39m_exception_tb)\n\u001b[1;32m    204\u001b[0m \u001b[38;5;28;01mreturn\u001b[39;00m \u001b[38;5;28mself\u001b[39m\u001b[38;5;241m.\u001b[39m_result\n",
      "File \u001b[0;32m/opt/conda/lib/python3.11/asyncio/tasks.py:277\u001b[0m, in \u001b[0;36mTask.__step\u001b[0;34m(***failed resolving arguments***)\u001b[0m\n\u001b[1;32m    273\u001b[0m \u001b[38;5;28;01mtry\u001b[39;00m:\n\u001b[1;32m    274\u001b[0m     \u001b[38;5;28;01mif\u001b[39;00m exc \u001b[38;5;129;01mis\u001b[39;00m \u001b[38;5;28;01mNone\u001b[39;00m:\n\u001b[1;32m    275\u001b[0m         \u001b[38;5;66;03m# We use the `send` method directly, because coroutines\u001b[39;00m\n\u001b[1;32m    276\u001b[0m         \u001b[38;5;66;03m# don't have `__iter__` and `__next__` methods.\u001b[39;00m\n\u001b[0;32m--> 277\u001b[0m         result \u001b[38;5;241m=\u001b[39m coro\u001b[38;5;241m.\u001b[39msend(\u001b[38;5;28;01mNone\u001b[39;00m)\n\u001b[1;32m    278\u001b[0m     \u001b[38;5;28;01melse\u001b[39;00m:\n\u001b[1;32m    279\u001b[0m         result \u001b[38;5;241m=\u001b[39m coro\u001b[38;5;241m.\u001b[39mthrow(exc)\n",
      "File \u001b[0;32m/opt/conda/lib/python3.11/asyncio/tasks.py:452\u001b[0m, in \u001b[0;36mwait_for\u001b[0;34m(fut, timeout)\u001b[0m\n\u001b[1;32m    449\u001b[0m loop \u001b[38;5;241m=\u001b[39m events\u001b[38;5;241m.\u001b[39mget_running_loop()\n\u001b[1;32m    451\u001b[0m \u001b[38;5;28;01mif\u001b[39;00m timeout \u001b[38;5;129;01mis\u001b[39;00m \u001b[38;5;28;01mNone\u001b[39;00m:\n\u001b[0;32m--> 452\u001b[0m     \u001b[38;5;28;01mreturn\u001b[39;00m \u001b[38;5;28;01mawait\u001b[39;00m fut\n\u001b[1;32m    454\u001b[0m \u001b[38;5;28;01mif\u001b[39;00m timeout \u001b[38;5;241m<\u001b[39m\u001b[38;5;241m=\u001b[39m \u001b[38;5;241m0\u001b[39m:\n\u001b[1;32m    455\u001b[0m     fut \u001b[38;5;241m=\u001b[39m ensure_future(fut, loop\u001b[38;5;241m=\u001b[39mloop)\n",
      "File \u001b[0;32m/opt/conda/lib/python3.11/site-packages/pytket/extensions/nexus/client/jobs.py:138\u001b[0m, in \u001b[0;36mJobsMixin.listen_job_status\u001b[0;34m(self, job_id, wait_for_status)\u001b[0m\n\u001b[1;32m    133\u001b[0m \u001b[38;5;28;01masync\u001b[39;00m \u001b[38;5;28;01mdef\u001b[39;00m\u001b[38;5;250m \u001b[39m\u001b[38;5;21mlisten_job_status\u001b[39m(\n\u001b[1;32m    134\u001b[0m     \u001b[38;5;28mself\u001b[39m, job_id: JobID, wait_for_status: JobStatusEnum \u001b[38;5;241m=\u001b[39m JobStatusEnum\u001b[38;5;241m.\u001b[39mCOMPLETED\n\u001b[1;32m    135\u001b[0m ) \u001b[38;5;241m-\u001b[39m\u001b[38;5;241m>\u001b[39m JobStatus:\n\u001b[1;32m    136\u001b[0m \u001b[38;5;250m    \u001b[39m\u001b[38;5;124;03m\"\"\"Check the Status of a Job via a websocket connection.\u001b[39;00m\n\u001b[1;32m    137\u001b[0m \u001b[38;5;124;03m    Will use SSO tokens.\"\"\"\u001b[39;00m\n\u001b[0;32m--> 138\u001b[0m     job_status \u001b[38;5;241m=\u001b[39m \u001b[38;5;28;43mself\u001b[39;49m\u001b[38;5;241;43m.\u001b[39;49m\u001b[43mjob_status\u001b[49m\u001b[43m(\u001b[49m\u001b[43mjob_id\u001b[49m\u001b[43m)\u001b[49m\n\u001b[1;32m    139\u001b[0m     logger\u001b[38;5;241m.\u001b[39mdebug(\u001b[38;5;124m\"\u001b[39m\u001b[38;5;124mCurrent job status: \u001b[39m\u001b[38;5;132;01m%s\u001b[39;00m\u001b[38;5;124m\"\u001b[39m, job_status\u001b[38;5;241m.\u001b[39mstatus)\n\u001b[1;32m    140\u001b[0m     \u001b[38;5;28;01mif\u001b[39;00m (\n\u001b[1;32m    141\u001b[0m         job_status\u001b[38;5;241m.\u001b[39mstatus \u001b[38;5;129;01mnot\u001b[39;00m \u001b[38;5;129;01min\u001b[39;00m WAITING_STATUS\n\u001b[1;32m    142\u001b[0m         \u001b[38;5;129;01mor\u001b[39;00m job_status\u001b[38;5;241m.\u001b[39mstatus \u001b[38;5;241m==\u001b[39m wait_for_status\n\u001b[1;32m    143\u001b[0m     ):\n",
      "File \u001b[0;32m/opt/conda/lib/python3.11/site-packages/pytket/extensions/nexus/client/jobs.py:106\u001b[0m, in \u001b[0;36mJobsMixin.job_status\u001b[0;34m(self, job_id)\u001b[0m\n\u001b[1;32m    104\u001b[0m resp \u001b[38;5;241m=\u001b[39m \u001b[38;5;28mself\u001b[39m\u001b[38;5;241m.\u001b[39msession\u001b[38;5;241m.\u001b[39mget(\u001b[38;5;124mf\u001b[39m\u001b[38;5;124m\"\u001b[39m\u001b[38;5;132;01m{\u001b[39;00m\u001b[38;5;28mself\u001b[39m\u001b[38;5;241m.\u001b[39murl\u001b[38;5;132;01m}\u001b[39;00m\u001b[38;5;124m/v6/jobs/\u001b[39m\u001b[38;5;132;01m{\u001b[39;00mjob_id\u001b[38;5;132;01m}\u001b[39;00m\u001b[38;5;124m/status\u001b[39m\u001b[38;5;124m\"\u001b[39m)\n\u001b[1;32m    105\u001b[0m \u001b[38;5;28;01mif\u001b[39;00m resp\u001b[38;5;241m.\u001b[39mstatus_code \u001b[38;5;241m!=\u001b[39m \u001b[38;5;241m200\u001b[39m:\n\u001b[0;32m--> 106\u001b[0m     \u001b[38;5;28;01mraise\u001b[39;00m ResourceFetchFailed(message\u001b[38;5;241m=\u001b[39mresp\u001b[38;5;241m.\u001b[39mtext, status_code\u001b[38;5;241m=\u001b[39mresp\u001b[38;5;241m.\u001b[39mstatus_code)\n\u001b[1;32m    107\u001b[0m \u001b[38;5;28;01mreturn\u001b[39;00m JobStatus\u001b[38;5;241m.\u001b[39mfrom_dict(resp\u001b[38;5;241m.\u001b[39mjson())\n",
      "\u001b[0;31mResourceFetchFailed\u001b[0m: Failed to fetch resource with status code: 404, message: {\"message\":\"Resource Not Found\"}"
     ]
    }
   ],
   "source": [
    "A = problem['A']\n",
    "b = problem['b']\n",
    "\n",
    "# Single Run\n",
    "solution = quantum_linear_solver_patched(A, b, backend=backend, t0=2*np.pi, shots=1024)\n",
    "solution"
   ]
  },
  {
   "cell_type": "code",
   "execution_count": 8,
   "id": "60fd2056-55a8-40e3-b0dd-24e863b8e9fb",
   "metadata": {},
   "outputs": [
    {
     "data": {
      "text/plain": [
       "CircuitStatus(status=<StatusEnum.COMPLETED: 'Circuit has completed. Results are ready.'>, message='Circuit has completed.', error_detail=None, completed_time=datetime.datetime(2025, 3, 28, 9, 2, 37, 350370, tzinfo=datetime.timezone.utc), queued_time=datetime.datetime(2025, 3, 25, 23, 29, 7, 578087, tzinfo=datetime.timezone.utc), submitted_time=datetime.datetime(2025, 3, 25, 20, 28, 8, 950615, tzinfo=datetime.timezone.utc), running_time=datetime.datetime(2025, 3, 28, 9, 2, 5, 175728, tzinfo=datetime.timezone.utc), cancelled_time=None, error_time=None, queue_position=None)"
      ]
     },
     "execution_count": 8,
     "metadata": {},
     "output_type": "execute_result"
    }
   ],
   "source": [
    "result_handle = ('2196ca2f-e935-4ade-b877-a028e6a6edd7', 3147224)\n",
    "status = backend.circuit_status(result_handle)\n",
    "status "
   ]
  },
  {
   "cell_type": "code",
   "execution_count": 9,
   "id": "02266c3b-d241-4864-95e1-cf8fc288fdc9",
   "metadata": {},
   "outputs": [
    {
     "ename": "ResourceFetchFailed",
     "evalue": "Failed to fetch resource with status code: 404, message: {\"message\":\"Resource Not Found\"}",
     "output_type": "error",
     "traceback": [
      "\u001b[0;31m---------------------------------------------------------------------------\u001b[0m",
      "\u001b[0;31mResourceFetchFailed\u001b[0m                       Traceback (most recent call last)",
      "Cell \u001b[0;32mIn[9], line 1\u001b[0m\n\u001b[0;32m----> 1\u001b[0m result \u001b[38;5;241m=\u001b[39m \u001b[43mbackend\u001b[49m\u001b[38;5;241;43m.\u001b[39;49m\u001b[43mget_result\u001b[49m\u001b[43m(\u001b[49m\u001b[43mresult_handle\u001b[49m\u001b[43m)\u001b[49m\n",
      "File \u001b[0;32m/opt/conda/lib/python3.11/site-packages/pytket/extensions/nexus/backends.py:473\u001b[0m, in \u001b[0;36mNexusBackend.get_result\u001b[0;34m(self, handle, **kwargs)\u001b[0m\n\u001b[1;32m    471\u001b[0m \u001b[38;5;28;01mtry\u001b[39;00m:\n\u001b[1;32m    472\u001b[0m     job_id, job_item_id \u001b[38;5;241m=\u001b[39m destructure_result_handle(handle)\n\u001b[0;32m--> 473\u001b[0m     status \u001b[38;5;241m=\u001b[39m \u001b[43masyncio\u001b[49m\u001b[38;5;241;43m.\u001b[39;49m\u001b[43mrun\u001b[49m\u001b[43m(\u001b[49m\n\u001b[1;32m    474\u001b[0m \u001b[43m        \u001b[49m\u001b[43masyncio\u001b[49m\u001b[38;5;241;43m.\u001b[39;49m\u001b[43mwait_for\u001b[49m\u001b[43m(\u001b[49m\n\u001b[1;32m    475\u001b[0m \u001b[43m            \u001b[49m\u001b[38;5;28;43mself\u001b[39;49m\u001b[38;5;241;43m.\u001b[39;49m\u001b[43mclient\u001b[49m\u001b[38;5;241;43m.\u001b[39;49m\u001b[43mlisten_job_status\u001b[49m\u001b[43m(\u001b[49m\u001b[43mjob_id\u001b[49m\u001b[38;5;241;43m=\u001b[39;49m\u001b[43mjob_id\u001b[49m\u001b[43m)\u001b[49m\u001b[43m,\u001b[49m\n\u001b[1;32m    476\u001b[0m \u001b[43m            \u001b[49m\u001b[43mtimeout\u001b[49m\u001b[38;5;241;43m=\u001b[39;49m\u001b[43mtimeout\u001b[49m\u001b[43m,\u001b[49m\n\u001b[1;32m    477\u001b[0m \u001b[43m        \u001b[49m\u001b[43m)\u001b[49m\n\u001b[1;32m    478\u001b[0m \u001b[43m    \u001b[49m\u001b[43m)\u001b[49m\n\u001b[1;32m    479\u001b[0m \u001b[38;5;28;01mexcept\u001b[39;00m asyncio\u001b[38;5;241m.\u001b[39mTimeoutError \u001b[38;5;28;01mas\u001b[39;00m exc:\n\u001b[1;32m    480\u001b[0m     \u001b[38;5;28;01mraise\u001b[39;00m ResourceFetchFailed(\n\u001b[1;32m    481\u001b[0m         \u001b[38;5;124mf\u001b[39m\u001b[38;5;124m\"\u001b[39m\u001b[38;5;124mResult request timed out after waiting \u001b[39m\u001b[38;5;132;01m{\u001b[39;00mtimeout\u001b[38;5;132;01m}\u001b[39;00m\u001b[38;5;124m seconds.\u001b[39m\u001b[38;5;124m\"\u001b[39m\n\u001b[1;32m    482\u001b[0m     ) \u001b[38;5;28;01mfrom\u001b[39;00m\u001b[38;5;250m \u001b[39m\u001b[38;5;21;01mexc\u001b[39;00m\n",
      "File \u001b[0;32m/opt/conda/lib/python3.11/site-packages/nest_asyncio.py:30\u001b[0m, in \u001b[0;36m_patch_asyncio.<locals>.run\u001b[0;34m(main, debug)\u001b[0m\n\u001b[1;32m     28\u001b[0m task \u001b[38;5;241m=\u001b[39m asyncio\u001b[38;5;241m.\u001b[39mensure_future(main)\n\u001b[1;32m     29\u001b[0m \u001b[38;5;28;01mtry\u001b[39;00m:\n\u001b[0;32m---> 30\u001b[0m     \u001b[38;5;28;01mreturn\u001b[39;00m \u001b[43mloop\u001b[49m\u001b[38;5;241;43m.\u001b[39;49m\u001b[43mrun_until_complete\u001b[49m\u001b[43m(\u001b[49m\u001b[43mtask\u001b[49m\u001b[43m)\u001b[49m\n\u001b[1;32m     31\u001b[0m \u001b[38;5;28;01mfinally\u001b[39;00m:\n\u001b[1;32m     32\u001b[0m     \u001b[38;5;28;01mif\u001b[39;00m \u001b[38;5;129;01mnot\u001b[39;00m task\u001b[38;5;241m.\u001b[39mdone():\n",
      "File \u001b[0;32m/opt/conda/lib/python3.11/site-packages/nest_asyncio.py:98\u001b[0m, in \u001b[0;36m_patch_loop.<locals>.run_until_complete\u001b[0;34m(self, future)\u001b[0m\n\u001b[1;32m     95\u001b[0m \u001b[38;5;28;01mif\u001b[39;00m \u001b[38;5;129;01mnot\u001b[39;00m f\u001b[38;5;241m.\u001b[39mdone():\n\u001b[1;32m     96\u001b[0m     \u001b[38;5;28;01mraise\u001b[39;00m \u001b[38;5;167;01mRuntimeError\u001b[39;00m(\n\u001b[1;32m     97\u001b[0m         \u001b[38;5;124m'\u001b[39m\u001b[38;5;124mEvent loop stopped before Future completed.\u001b[39m\u001b[38;5;124m'\u001b[39m)\n\u001b[0;32m---> 98\u001b[0m \u001b[38;5;28;01mreturn\u001b[39;00m \u001b[43mf\u001b[49m\u001b[38;5;241;43m.\u001b[39;49m\u001b[43mresult\u001b[49m\u001b[43m(\u001b[49m\u001b[43m)\u001b[49m\n",
      "File \u001b[0;32m/opt/conda/lib/python3.11/asyncio/futures.py:203\u001b[0m, in \u001b[0;36mFuture.result\u001b[0;34m(self)\u001b[0m\n\u001b[1;32m    201\u001b[0m \u001b[38;5;28mself\u001b[39m\u001b[38;5;241m.\u001b[39m__log_traceback \u001b[38;5;241m=\u001b[39m \u001b[38;5;28;01mFalse\u001b[39;00m\n\u001b[1;32m    202\u001b[0m \u001b[38;5;28;01mif\u001b[39;00m \u001b[38;5;28mself\u001b[39m\u001b[38;5;241m.\u001b[39m_exception \u001b[38;5;129;01mis\u001b[39;00m \u001b[38;5;129;01mnot\u001b[39;00m \u001b[38;5;28;01mNone\u001b[39;00m:\n\u001b[0;32m--> 203\u001b[0m     \u001b[38;5;28;01mraise\u001b[39;00m \u001b[38;5;28mself\u001b[39m\u001b[38;5;241m.\u001b[39m_exception\u001b[38;5;241m.\u001b[39mwith_traceback(\u001b[38;5;28mself\u001b[39m\u001b[38;5;241m.\u001b[39m_exception_tb)\n\u001b[1;32m    204\u001b[0m \u001b[38;5;28;01mreturn\u001b[39;00m \u001b[38;5;28mself\u001b[39m\u001b[38;5;241m.\u001b[39m_result\n",
      "File \u001b[0;32m/opt/conda/lib/python3.11/asyncio/tasks.py:277\u001b[0m, in \u001b[0;36mTask.__step\u001b[0;34m(***failed resolving arguments***)\u001b[0m\n\u001b[1;32m    273\u001b[0m \u001b[38;5;28;01mtry\u001b[39;00m:\n\u001b[1;32m    274\u001b[0m     \u001b[38;5;28;01mif\u001b[39;00m exc \u001b[38;5;129;01mis\u001b[39;00m \u001b[38;5;28;01mNone\u001b[39;00m:\n\u001b[1;32m    275\u001b[0m         \u001b[38;5;66;03m# We use the `send` method directly, because coroutines\u001b[39;00m\n\u001b[1;32m    276\u001b[0m         \u001b[38;5;66;03m# don't have `__iter__` and `__next__` methods.\u001b[39;00m\n\u001b[0;32m--> 277\u001b[0m         result \u001b[38;5;241m=\u001b[39m coro\u001b[38;5;241m.\u001b[39msend(\u001b[38;5;28;01mNone\u001b[39;00m)\n\u001b[1;32m    278\u001b[0m     \u001b[38;5;28;01melse\u001b[39;00m:\n\u001b[1;32m    279\u001b[0m         result \u001b[38;5;241m=\u001b[39m coro\u001b[38;5;241m.\u001b[39mthrow(exc)\n",
      "File \u001b[0;32m/opt/conda/lib/python3.11/asyncio/tasks.py:452\u001b[0m, in \u001b[0;36mwait_for\u001b[0;34m(fut, timeout)\u001b[0m\n\u001b[1;32m    449\u001b[0m loop \u001b[38;5;241m=\u001b[39m events\u001b[38;5;241m.\u001b[39mget_running_loop()\n\u001b[1;32m    451\u001b[0m \u001b[38;5;28;01mif\u001b[39;00m timeout \u001b[38;5;129;01mis\u001b[39;00m \u001b[38;5;28;01mNone\u001b[39;00m:\n\u001b[0;32m--> 452\u001b[0m     \u001b[38;5;28;01mreturn\u001b[39;00m \u001b[38;5;28;01mawait\u001b[39;00m fut\n\u001b[1;32m    454\u001b[0m \u001b[38;5;28;01mif\u001b[39;00m timeout \u001b[38;5;241m<\u001b[39m\u001b[38;5;241m=\u001b[39m \u001b[38;5;241m0\u001b[39m:\n\u001b[1;32m    455\u001b[0m     fut \u001b[38;5;241m=\u001b[39m ensure_future(fut, loop\u001b[38;5;241m=\u001b[39mloop)\n",
      "File \u001b[0;32m/opt/conda/lib/python3.11/site-packages/pytket/extensions/nexus/client/jobs.py:138\u001b[0m, in \u001b[0;36mJobsMixin.listen_job_status\u001b[0;34m(self, job_id, wait_for_status)\u001b[0m\n\u001b[1;32m    133\u001b[0m \u001b[38;5;28;01masync\u001b[39;00m \u001b[38;5;28;01mdef\u001b[39;00m\u001b[38;5;250m \u001b[39m\u001b[38;5;21mlisten_job_status\u001b[39m(\n\u001b[1;32m    134\u001b[0m     \u001b[38;5;28mself\u001b[39m, job_id: JobID, wait_for_status: JobStatusEnum \u001b[38;5;241m=\u001b[39m JobStatusEnum\u001b[38;5;241m.\u001b[39mCOMPLETED\n\u001b[1;32m    135\u001b[0m ) \u001b[38;5;241m-\u001b[39m\u001b[38;5;241m>\u001b[39m JobStatus:\n\u001b[1;32m    136\u001b[0m \u001b[38;5;250m    \u001b[39m\u001b[38;5;124;03m\"\"\"Check the Status of a Job via a websocket connection.\u001b[39;00m\n\u001b[1;32m    137\u001b[0m \u001b[38;5;124;03m    Will use SSO tokens.\"\"\"\u001b[39;00m\n\u001b[0;32m--> 138\u001b[0m     job_status \u001b[38;5;241m=\u001b[39m \u001b[38;5;28;43mself\u001b[39;49m\u001b[38;5;241;43m.\u001b[39;49m\u001b[43mjob_status\u001b[49m\u001b[43m(\u001b[49m\u001b[43mjob_id\u001b[49m\u001b[43m)\u001b[49m\n\u001b[1;32m    139\u001b[0m     logger\u001b[38;5;241m.\u001b[39mdebug(\u001b[38;5;124m\"\u001b[39m\u001b[38;5;124mCurrent job status: \u001b[39m\u001b[38;5;132;01m%s\u001b[39;00m\u001b[38;5;124m\"\u001b[39m, job_status\u001b[38;5;241m.\u001b[39mstatus)\n\u001b[1;32m    140\u001b[0m     \u001b[38;5;28;01mif\u001b[39;00m (\n\u001b[1;32m    141\u001b[0m         job_status\u001b[38;5;241m.\u001b[39mstatus \u001b[38;5;129;01mnot\u001b[39;00m \u001b[38;5;129;01min\u001b[39;00m WAITING_STATUS\n\u001b[1;32m    142\u001b[0m         \u001b[38;5;129;01mor\u001b[39;00m job_status\u001b[38;5;241m.\u001b[39mstatus \u001b[38;5;241m==\u001b[39m wait_for_status\n\u001b[1;32m    143\u001b[0m     ):\n",
      "File \u001b[0;32m/opt/conda/lib/python3.11/site-packages/pytket/extensions/nexus/client/jobs.py:106\u001b[0m, in \u001b[0;36mJobsMixin.job_status\u001b[0;34m(self, job_id)\u001b[0m\n\u001b[1;32m    104\u001b[0m resp \u001b[38;5;241m=\u001b[39m \u001b[38;5;28mself\u001b[39m\u001b[38;5;241m.\u001b[39msession\u001b[38;5;241m.\u001b[39mget(\u001b[38;5;124mf\u001b[39m\u001b[38;5;124m\"\u001b[39m\u001b[38;5;132;01m{\u001b[39;00m\u001b[38;5;28mself\u001b[39m\u001b[38;5;241m.\u001b[39murl\u001b[38;5;132;01m}\u001b[39;00m\u001b[38;5;124m/v6/jobs/\u001b[39m\u001b[38;5;132;01m{\u001b[39;00mjob_id\u001b[38;5;132;01m}\u001b[39;00m\u001b[38;5;124m/status\u001b[39m\u001b[38;5;124m\"\u001b[39m)\n\u001b[1;32m    105\u001b[0m \u001b[38;5;28;01mif\u001b[39;00m resp\u001b[38;5;241m.\u001b[39mstatus_code \u001b[38;5;241m!=\u001b[39m \u001b[38;5;241m200\u001b[39m:\n\u001b[0;32m--> 106\u001b[0m     \u001b[38;5;28;01mraise\u001b[39;00m ResourceFetchFailed(message\u001b[38;5;241m=\u001b[39mresp\u001b[38;5;241m.\u001b[39mtext, status_code\u001b[38;5;241m=\u001b[39mresp\u001b[38;5;241m.\u001b[39mstatus_code)\n\u001b[1;32m    107\u001b[0m \u001b[38;5;28;01mreturn\u001b[39;00m JobStatus\u001b[38;5;241m.\u001b[39mfrom_dict(resp\u001b[38;5;241m.\u001b[39mjson())\n",
      "\u001b[0;31mResourceFetchFailed\u001b[0m: Failed to fetch resource with status code: 404, message: {\"message\":\"Resource Not Found\"}"
     ]
    }
   ],
   "source": [
    "result = backend.get_result(result_handle)"
   ]
  },
  {
   "cell_type": "code",
   "execution_count": null,
   "id": "1a641e2e-b524-47a8-9ed7-28e22afbd0f5",
   "metadata": {},
   "outputs": [],
   "source": []
  },
  {
   "cell_type": "code",
   "execution_count": null,
   "id": "65674b80-0522-40fc-bf7b-376d66a483ae",
   "metadata": {},
   "outputs": [],
   "source": []
  },
  {
   "cell_type": "code",
   "execution_count": null,
   "id": "9cdb8a85-9ba5-454e-8ee0-a3bfbc849411",
   "metadata": {},
   "outputs": [],
   "source": [
    "# Iterative Refinement\n",
    "refined_solution = IR(A, b, precision=1e-5, max_iter=3, backend=backend, plot=True)\n",
    "refined_solution"
   ]
  },
  {
   "cell_type": "code",
   "execution_count": null,
   "id": "5ef5a6b3-c108-49b5-9f78-1a02e55f259d",
   "metadata": {},
   "outputs": [],
   "source": [
    "df = pd.DataFrame()\n",
    "# Make a dataframe out of the results\n",
    "datarow = {\n",
    "    \"Backend\": backend.backend_config.device_name,\n",
    "    \"Problem Size\": f\"{len(b)} x {len(b)}\",\n",
    "    \"A\": problem[\"A\"],\n",
    "    \"b\": problem[\"b\"],\n",
    "    \"Condition Number\": problem[\"condition_number\"],\n",
    "    \"Sparsity\": problem[\"sparsity\"],\n",
    "    \"Number of Qubits\": solution[\"number_of_qubits\"],\n",
    "    \"Circuit Depth\": solution[\"circuit_depth\"],\n",
    "    \"Total Gates\": solution[\"total_gates\"],\n",
    "    \"Two-Qubit Gates\": solution[\"two_qubit_gates\"],  # Uncomment if needed\n",
    "    # \"Runtime\": solution[\"runtime\"],  # Uncomment if needed\n",
    "    \"||x_c - x_q|| without IR\": solution[\"two_norm_error\"],\n",
    "    \"||x_c - x_q|| with IR\": refined_solution[\"errors\"][-1],\n",
    "    \"||Ax - b|| without IR\": solution[\"residual_error\"],\n",
    "    \"||Ax - b|| with IR\": refined_solution[\"residuals\"][-1],\n",
    "    \"Total Iterations of IR\": refined_solution[\"total_iterations\"],\n",
    "    # \"Total Cost\": refined_solution[\"total_cost\"],\n",
    "    \"Error list\": refined_solution[\"errors\"],\n",
    "    \"Residual list\": refined_solution[\"residuals\"],\n",
    "}\n",
    "df = pd.concat([df, pd.DataFrame([datarow])], ignore_index=True)\n",
    "\n",
    "# Display the DataFrame without showing \"Error list\" and \"Residual list\"\n",
    "df_display = df.drop(columns=[\"Error list\", \"Residual list\", \"A\", \"b\"])\n",
    "\n",
    "df_display.style.hide(axis=\"index\").format(precision=6).set_caption(f\"{backend.backend_config.device_name} Results\")"
   ]
  }
 ],
 "metadata": {
  "kernelspec": {
   "display_name": "Python [conda env:base] *",
   "language": "python",
   "name": "conda-base-py"
  },
  "language_info": {
   "codemirror_mode": {
    "name": "ipython",
    "version": 3
   },
   "file_extension": ".py",
   "mimetype": "text/x-python",
   "name": "python",
   "nbconvert_exporter": "python",
   "pygments_lexer": "ipython3",
   "version": "3.11.10"
  }
 },
 "nbformat": 4,
 "nbformat_minor": 5
}
